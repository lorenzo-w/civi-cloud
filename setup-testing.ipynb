{
 "cells": [
  {
   "cell_type": "markdown",
   "metadata": {},
   "source": [
    "# civi-cloud"
   ]
  },
  {
   "cell_type": "code",
   "execution_count": null,
   "metadata": {
    "vscode": {
     "languageId": "shellscript"
    }
   },
   "outputs": [],
   "source": [
    "%env KUBECONFIG=./kubeconfig"
   ]
  },
  {
   "cell_type": "markdown",
   "metadata": {},
   "source": [
    "### HR Reconciliation"
   ]
  },
  {
   "cell_type": "code",
   "execution_count": null,
   "metadata": {
    "vscode": {
     "languageId": "shellscript"
    }
   },
   "outputs": [],
   "source": [
    "%%bash\n",
    "hr=civi-cloud-sub\n",
    "n=civi-cloud\n",
    "\n",
    "flux reconcile hr $hr -n $n --with-source\n",
    "flux suspend hr $hr -n $n\n",
    "flux resume hr $hr -n $n"
   ]
  }
 ],
 "metadata": {
  "kernelspec": {
   "display_name": "Python 3.10.5 ('.venv': poetry)",
   "language": "python",
   "name": "python3"
  },
  "language_info": {
   "codemirror_mode": {
    "name": "ipython",
    "version": 3
   },
   "file_extension": ".py",
   "mimetype": "text/x-python",
   "name": "python",
   "nbconvert_exporter": "python",
   "pygments_lexer": "ipython3",
   "version": "3.10.5"
  },
  "orig_nbformat": 4,
  "vscode": {
   "interpreter": {
    "hash": "ca99c4d3bf7856e619398bee0f02f1703222570cc56d0c9a640d2bb7ffb3371c"
   }
  }
 },
 "nbformat": 4,
 "nbformat_minor": 2
}
